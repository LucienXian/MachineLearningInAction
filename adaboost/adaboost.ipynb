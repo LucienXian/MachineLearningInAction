{
 "cells": [
  {
   "cell_type": "code",
   "execution_count": 1,
   "metadata": {},
   "outputs": [],
   "source": [
    "from numpy import *\n",
    "\n",
    "def loadSimpleData():\n",
    "    datMat = matrix([\n",
    "        [1., 2.1],\n",
    "        [2., 1.1],\n",
    "        [1.3,1.],\n",
    "        [1., 1.],\n",
    "        [2., 1.]\n",
    "    ])\n",
    "    classLabels = [1.0,1.0,-1.0,-1.0,1.0]\n",
    "    return datMat, classLabels"
   ]
  },
  {
   "cell_type": "code",
   "execution_count": 2,
   "metadata": {},
   "outputs": [],
   "source": [
    "datMat, classLabels = loadSimpleData()"
   ]
  },
  {
   "cell_type": "code",
   "execution_count": 4,
   "metadata": {},
   "outputs": [],
   "source": [
    "def stumpClassify(dataMatrix, dimen, threshVal, threshIneq):\n",
    "    retArray = ones((shape(dataMatrix)[0], 1))\n",
    "    if threshIneq == 'lt':\n",
    "        retArray[dataMatrix[:, dimen]<=threshVal] = -1.0\n",
    "    else:\n",
    "        retArray[dataMatrix[:, dimen]>threshVal] = -1.0\n",
    "    return retArray"
   ]
  },
  {
   "cell_type": "code",
   "execution_count": 23,
   "metadata": {},
   "outputs": [],
   "source": [
    "def buildStump(dataArr, classLabels, D):\n",
    "    dataMatrix = mat(dataArr)\n",
    "    labelMat = mat(classLabels).T\n",
    "    m, n = shape(dataMatrix)\n",
    "    \n",
    "    numSteps = 10.0\n",
    "    bestStump = {}\n",
    "    bestClassEst = mat(zeros((m,1)))\n",
    "    minError = inf\n",
    "    \n",
    "    for i in range(n):\n",
    "        rangeMax = dataMatrix[:, i].max()\n",
    "        rangeMin = dataMatrix[:, i].min()\n",
    "        stepSize = (rangeMax-rangeMin)/numSteps\n",
    "        for j in range(-1, int(numSteps)+1):\n",
    "            for inequal in ['lt', 'gt']:\n",
    "                threshVal = rangeMin + float(j)*stepSize\n",
    "                predictedVals = stumpClassify(dataMatrix, i, threshVal, inequal)\n",
    "                errArr = mat(ones((m, 1)))\n",
    "                # print(shape(predictedVals), shape(labelMat))\n",
    "                errArr[predictedVals == labelMat] = 0\n",
    "                weightedError = D.T * errArr\n",
    "                print(\"split: dim %d, thresh %.2f, thresh inequal: %s, weighted Error: %.3f\" % (i, threshVal, inequal, weightedError))\n",
    "                if weightedError < minError:\n",
    "                    minError = weightedError\n",
    "                    bestClassEst = predictedVals.copy()\n",
    "                    bestStump['dim'] = i\n",
    "                    bestStump['thresh'] = threshVal\n",
    "                    bestStump['ineq'] = inequal\n",
    "    return bestStump, minError, bestClassEst"
   ]
  },
  {
   "cell_type": "code",
   "execution_count": 21,
   "metadata": {},
   "outputs": [],
   "source": [
    "D= mat(ones((5,1))/5)"
   ]
  },
  {
   "cell_type": "code",
   "execution_count": 24,
   "metadata": {},
   "outputs": [
    {
     "name": "stdout",
     "output_type": "stream",
     "text": [
      "split: dim 0, thresh 0.90, thresh inequal: lt, weighted Error: 0.400\n",
      "split: dim 0, thresh 0.90, thresh inequal: gt, weighted Error: 0.600\n",
      "split: dim 0, thresh 1.00, thresh inequal: lt, weighted Error: 0.400\n",
      "split: dim 0, thresh 1.00, thresh inequal: gt, weighted Error: 0.600\n",
      "split: dim 0, thresh 1.10, thresh inequal: lt, weighted Error: 0.400\n",
      "split: dim 0, thresh 1.10, thresh inequal: gt, weighted Error: 0.600\n",
      "split: dim 0, thresh 1.20, thresh inequal: lt, weighted Error: 0.400\n",
      "split: dim 0, thresh 1.20, thresh inequal: gt, weighted Error: 0.600\n",
      "split: dim 0, thresh 1.30, thresh inequal: lt, weighted Error: 0.200\n",
      "split: dim 0, thresh 1.30, thresh inequal: gt, weighted Error: 0.800\n",
      "split: dim 0, thresh 1.40, thresh inequal: lt, weighted Error: 0.200\n",
      "split: dim 0, thresh 1.40, thresh inequal: gt, weighted Error: 0.800\n",
      "split: dim 0, thresh 1.50, thresh inequal: lt, weighted Error: 0.200\n",
      "split: dim 0, thresh 1.50, thresh inequal: gt, weighted Error: 0.800\n",
      "split: dim 0, thresh 1.60, thresh inequal: lt, weighted Error: 0.200\n",
      "split: dim 0, thresh 1.60, thresh inequal: gt, weighted Error: 0.800\n",
      "split: dim 0, thresh 1.70, thresh inequal: lt, weighted Error: 0.200\n",
      "split: dim 0, thresh 1.70, thresh inequal: gt, weighted Error: 0.800\n",
      "split: dim 0, thresh 1.80, thresh inequal: lt, weighted Error: 0.200\n",
      "split: dim 0, thresh 1.80, thresh inequal: gt, weighted Error: 0.800\n",
      "split: dim 0, thresh 1.90, thresh inequal: lt, weighted Error: 0.200\n",
      "split: dim 0, thresh 1.90, thresh inequal: gt, weighted Error: 0.800\n",
      "split: dim 0, thresh 2.00, thresh inequal: lt, weighted Error: 0.600\n",
      "split: dim 0, thresh 2.00, thresh inequal: gt, weighted Error: 0.400\n",
      "split: dim 1, thresh 0.89, thresh inequal: lt, weighted Error: 0.400\n",
      "split: dim 1, thresh 0.89, thresh inequal: gt, weighted Error: 0.600\n",
      "split: dim 1, thresh 1.00, thresh inequal: lt, weighted Error: 0.200\n",
      "split: dim 1, thresh 1.00, thresh inequal: gt, weighted Error: 0.800\n",
      "split: dim 1, thresh 1.11, thresh inequal: lt, weighted Error: 0.400\n",
      "split: dim 1, thresh 1.11, thresh inequal: gt, weighted Error: 0.600\n",
      "split: dim 1, thresh 1.22, thresh inequal: lt, weighted Error: 0.400\n",
      "split: dim 1, thresh 1.22, thresh inequal: gt, weighted Error: 0.600\n",
      "split: dim 1, thresh 1.33, thresh inequal: lt, weighted Error: 0.400\n",
      "split: dim 1, thresh 1.33, thresh inequal: gt, weighted Error: 0.600\n",
      "split: dim 1, thresh 1.44, thresh inequal: lt, weighted Error: 0.400\n",
      "split: dim 1, thresh 1.44, thresh inequal: gt, weighted Error: 0.600\n",
      "split: dim 1, thresh 1.55, thresh inequal: lt, weighted Error: 0.400\n",
      "split: dim 1, thresh 1.55, thresh inequal: gt, weighted Error: 0.600\n",
      "split: dim 1, thresh 1.66, thresh inequal: lt, weighted Error: 0.400\n",
      "split: dim 1, thresh 1.66, thresh inequal: gt, weighted Error: 0.600\n",
      "split: dim 1, thresh 1.77, thresh inequal: lt, weighted Error: 0.400\n",
      "split: dim 1, thresh 1.77, thresh inequal: gt, weighted Error: 0.600\n",
      "split: dim 1, thresh 1.88, thresh inequal: lt, weighted Error: 0.400\n",
      "split: dim 1, thresh 1.88, thresh inequal: gt, weighted Error: 0.600\n",
      "split: dim 1, thresh 1.99, thresh inequal: lt, weighted Error: 0.400\n",
      "split: dim 1, thresh 1.99, thresh inequal: gt, weighted Error: 0.600\n",
      "split: dim 1, thresh 2.10, thresh inequal: lt, weighted Error: 0.600\n",
      "split: dim 1, thresh 2.10, thresh inequal: gt, weighted Error: 0.400\n"
     ]
    },
    {
     "data": {
      "text/plain": [
       "({'dim': 0, 'thresh': 1.3, 'ineq': 'lt'}, matrix([[0.2]]), array([[-1.],\n",
       "        [ 1.],\n",
       "        [-1.],\n",
       "        [-1.],\n",
       "        [ 1.]]))"
      ]
     },
     "execution_count": 24,
     "metadata": {},
     "output_type": "execute_result"
    }
   ],
   "source": [
    "buildStump(datMat, classLabels, D)"
   ]
  },
  {
   "cell_type": "code",
   "execution_count": null,
   "metadata": {},
   "outputs": [],
   "source": []
  }
 ],
 "metadata": {
  "kernelspec": {
   "display_name": "Python 3",
   "language": "python",
   "name": "python3"
  },
  "language_info": {
   "codemirror_mode": {
    "name": "ipython",
    "version": 3
   },
   "file_extension": ".py",
   "mimetype": "text/x-python",
   "name": "python",
   "nbconvert_exporter": "python",
   "pygments_lexer": "ipython3",
   "version": "3.7.2"
  }
 },
 "nbformat": 4,
 "nbformat_minor": 2
}
